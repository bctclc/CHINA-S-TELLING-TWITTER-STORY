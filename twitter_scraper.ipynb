{
 "cells": [
  {
   "cell_type": "code",
   "execution_count": 1,
   "metadata": {},
   "outputs": [],
   "source": [
    "#Scraper tutorial: https://medium.com/@jcldinco/downloading-historical-tweets-using-tweet-ids-via-snscrape-and-tweepy-5f4ecbf19032"
   ]
  },
  {
   "cell_type": "code",
   "execution_count": null,
   "metadata": {},
   "outputs": [],
   "source": [
    "import snscrape.modules.twitter as sntwitter"
   ]
  },
  {
   "cell_type": "code",
   "execution_count": 6,
   "metadata": {},
   "outputs": [],
   "source": [
    "#put the following code into Anaconda Prompt\n",
    "#snscrape twitter-user \"thouse_opinions since:2020-06-17 until:2020-09-25\" > thouse_opinions_tweets.txt\n",
    "\n",
    "#keep track of progress\n",
    "#cgtnamerica 列表已爬 转赞已爬\n",
    "#CGTNOfficial 列表已爬 转赞已爬\n",
    "#cgtnrussian 列表已爬 转赞已爬\n",
    "#cgtnafrica 列表已爬 转赞已爬\n",
    "#CCTV 列表已爬 转赞已爬\n",
    "#XHSports 列表已爬 转赞已爬\n",
    "#XinhuaChinese 列表已爬 转赞已爬\n",
    "#XHNews 列表已爬 转赞已爬\n",
    "#shanghaidaily 列表已爬 转赞已爬\n",
    "#globaltimesnews 列表已爬 转赞已爬\n",
    "#PDChina 列表已爬 转赞已爬\n",
    "#PDChinese 列表已爬 转赞已爬\n",
    "#caixin 列表已爬 转赞已爬\n",
    "#ChinaDaily 列表已爬 转赞已爬\n",
    "#SixthTone 列表已爬 转赞已爬\n",
    "#yicaichina 列表已爬 转赞已爬\n",
    "#ipandacom 列表已爬 转赞已爬\n",
    "#PDChinaBusiness 列表已爬 转赞已爬\n",
    "#ChinaScience 列表已爬 转赞已爬\n",
    "#PDChinaLife 列表已爬 转赞已爬\n",
    "#chinaorgcn 列表已爬 转赞已爬\n",
    "#Echinanews 列表已爬 转赞已爬\n",
    "#cgtnarabic 列表已爬 转赞已爬\n",
    "#cgtnenespanol 列表已爬 转赞已爬\n",
    "#CCTV_Plus 列表已爬 转赞已爬\n",
    "#XinhuaTravel 列表已爬 转赞已爬\n",
    "#XHNorthAmerica 列表已爬 转赞已爬\n",
    "#XHscitech 列表已爬 转赞已爬\n",
    "#XHportugues 列表已爬 转赞已爬\n",
    "#XHespanol 列表已爬 转赞已爬\n",
    "#XHTurkey 列表已爬 转赞已爬\n",
    "#XHJapanese 列表已爬 转赞已爬\n",
    "#XHIndonesia 列表已爬 转赞已爬\n",
    "#XHMyanmar 列表已爬 转赞已爬\n",
    "#GlobalTimesBiz 列表已爬 转赞已爬\n",
    "#PDOAUS 列表已爬 转赞已爬\n",
    "#PuebloEnLnea 列表已爬 转赞已爬\n",
    "#RenminDeutsch 列表已爬 转赞已爬\n",
    "#PDChinaSports 列表已爬 转赞已爬\n",
    "#PhoenixTVHK 列表已爬 转赞已爬\n",
    "#ChinaDailyEU 列表已爬 转赞已爬\n",
    "#ChinaDailyAsia 列表已爬 转赞已爬\n",
    "#Guangming_Daily 列表已爬 转赞已爬\n",
    "#ChinaPlusNews 列表已爬 转赞已爬\n",
    "#CRIjpn 列表已爬 转赞已爬\n",
    "#thouse_opinions 列表已爬 转赞已爬"
   ]
  },
  {
   "cell_type": "code",
   "execution_count": 1,
   "metadata": {},
   "outputs": [],
   "source": [
    "import pandas as pd, tweepy"
   ]
  },
  {
   "cell_type": "code",
   "execution_count": 2,
   "metadata": {},
   "outputs": [],
   "source": [
    "consumer_key = \"",
    "consumer_secret = \"",
    "access_token = \"",
    "access_token_secret = \"",
    "\n",
    "auth = tweepy.OAuthHandler(consumer_key, consumer_secret) \n",
    "auth.set_access_token(access_token, access_token_secret)\n",
    "api = tweepy.API(auth)"
   ]
  },
  {
   "cell_type": "code",
   "execution_count": 142,
   "metadata": {},
   "outputs": [
    {
     "data": {
      "text/html": [
       "<div>\n",
       "<style scoped>\n",
       "    .dataframe tbody tr th:only-of-type {\n",
       "        vertical-align: middle;\n",
       "    }\n",
       "\n",
       "    .dataframe tbody tr th {\n",
       "        vertical-align: top;\n",
       "    }\n",
       "\n",
       "    .dataframe thead th {\n",
       "        text-align: right;\n",
       "    }\n",
       "</style>\n",
       "<table border=\"1\" class=\"dataframe\">\n",
       "  <thead>\n",
       "    <tr style=\"text-align: right;\">\n",
       "      <th></th>\n",
       "      <th>links</th>\n",
       "    </tr>\n",
       "  </thead>\n",
       "  <tbody>\n",
       "    <tr>\n",
       "      <th>0</th>\n",
       "      <td>https://twitter.com/thouse_opinions/status/130...</td>\n",
       "    </tr>\n",
       "    <tr>\n",
       "      <th>1</th>\n",
       "      <td>https://twitter.com/thouse_opinions/status/130...</td>\n",
       "    </tr>\n",
       "    <tr>\n",
       "      <th>2</th>\n",
       "      <td>https://twitter.com/thouse_opinions/status/130...</td>\n",
       "    </tr>\n",
       "    <tr>\n",
       "      <th>3</th>\n",
       "      <td>https://twitter.com/thouse_opinions/status/130...</td>\n",
       "    </tr>\n",
       "    <tr>\n",
       "      <th>4</th>\n",
       "      <td>https://twitter.com/thouse_opinions/status/130...</td>\n",
       "    </tr>\n",
       "  </tbody>\n",
       "</table>\n",
       "</div>"
      ],
      "text/plain": [
       "                                               links\n",
       "0  https://twitter.com/thouse_opinions/status/130...\n",
       "1  https://twitter.com/thouse_opinions/status/130...\n",
       "2  https://twitter.com/thouse_opinions/status/130...\n",
       "3  https://twitter.com/thouse_opinions/status/130...\n",
       "4  https://twitter.com/thouse_opinions/status/130..."
      ]
     },
     "execution_count": 142,
     "metadata": {},
     "output_type": "execute_result"
    }
   ],
   "source": [
    "tweet_url = pd.read_csv(\"thouse_opinions_tweets.txt\", index_col= None, header = None, names = [\"links\"])\n",
    "tweet_url.head()"
   ]
  },
  {
   "cell_type": "code",
   "execution_count": 143,
   "metadata": {},
   "outputs": [],
   "source": [
    "af = lambda x: x[\"links\"].split(\"/\")[-1]\n",
    "tweet_url['id'] = tweet_url.apply(af, axis=1)"
   ]
  },
  {
   "cell_type": "code",
   "execution_count": 144,
   "metadata": {},
   "outputs": [],
   "source": [
    "ids = tweet_url['id'].tolist()"
   ]
  },
  {
   "cell_type": "code",
   "execution_count": 145,
   "metadata": {},
   "outputs": [],
   "source": [
    "total_count = len(ids)\n",
    "chunks = (total_count - 1) // 50 + 1"
   ]
  },
  {
   "cell_type": "code",
   "execution_count": 146,
   "metadata": {},
   "outputs": [],
   "source": [
    "def fetch_tw(ids):\n",
    "    list_of_tw_status = api.statuses_lookup(ids, tweet_mode= \"extended\")\n",
    "    empty_data = pd.DataFrame()\n",
    "    for status in list_of_tw_status:\n",
    "            tweet_elem = {\"tweet_id\": status.id,\n",
    "                     \"screen_name\": status.user.screen_name,\n",
    "                     \"tweet\":status.full_text,\n",
    "                     \"date\":status.created_at,\n",
    "                     \"likes\": status.favorite_count,\n",
    "                     \"retweets\": status.retweet_count}\n",
    "            empty_data = empty_data.append(tweet_elem, ignore_index = True)\n",
    "    empty_data.to_csv(\"thouse_opinions_Daily.csv\", mode=\"a\")"
   ]
  },
  {
   "cell_type": "code",
   "execution_count": 147,
   "metadata": {},
   "outputs": [],
   "source": [
    "for i in range(chunks):\n",
    "        batch = ids[i*50:(i+1)*50]\n",
    "        result = fetch_tw(batch)"
   ]
  }
 ],
 "metadata": {
  "kernelspec": {
   "display_name": "Python 3",
   "language": "python",
   "name": "python3"
  },
  "language_info": {
   "codemirror_mode": {
    "name": "ipython",
    "version": 3
   },
   "file_extension": ".py",
   "mimetype": "text/x-python",
   "name": "python",
   "nbconvert_exporter": "python",
   "pygments_lexer": "ipython3",
   "version": "3.7.0"
  }
 },
 "nbformat": 4,
 "nbformat_minor": 2
}
